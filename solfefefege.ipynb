{
  "cells": [
    {
      "cell_type": "code",
      "execution_count": 4,
      "metadata": {},
      "outputs": [],
      "source": [
        "%%capture\n",
        "! pip3 install -r requirements.txt"
      ]
    },
    {
      "cell_type": "code",
      "execution_count": 5,
      "metadata": {
        "id": "JiuFxlAuAXCe"
      },
      "outputs": [],
      "source": [
        "import numpy as np\n",
        "from IPython.display import Audio, display\n",
        "import ipywidgets as widgets"
      ]
    },
    {
      "cell_type": "code",
      "execution_count": 9,
      "metadata": {
        "id": "f30S0GqeDPsR"
      },
      "outputs": [],
      "source": [
        "# Function to generate a beep sound\n",
        "def generate_beep(duration_ms, frequency=440, sample_rate=44100):\n",
        "    t = np.linspace(0, duration_ms / 1000, int(sample_rate * duration_ms / 1000), False)\n",
        "    beep = np.sin(frequency * t * 2 * np.pi)\n",
        "    return beep"
      ]
    },
    {
      "cell_type": "code",
      "execution_count": 10,
      "metadata": {
        "id": "Oi4Vof3uEuyv"
      },
      "outputs": [],
      "source": [
        "def play_rhythm(tempo, rhythm):\n",
        "  # \"g\" is for gerd = whole note\n",
        "  # \"w\" is for white = half note\n",
        "  # \"b\" is for black = quarter note\n",
        "  # \"c\" is for chang = eight note\n",
        "  # \"dc\" is for dola-change = sixteenth\n",
        "  # I know.\n",
        "    note_types = {\"g\": 4, \"w\": 2, \"b\": 1, \"c\": 0.5, \"dc\": 0.25}  # Mapping aliases to durations\n",
        "    beat_duration_ms = 60000 / tempo  # Duration of a beat in milliseconds\n",
        "    sounds = []\n",
        "    for note in rhythm.split():\n",
        "        note_duration = note_types.get(note.rstrip('d'), 0)  # Get base duration\n",
        "        if note.endswith('d'):\n",
        "            note_duration *= 1.5  # Increase duration by 50% for dotted notes\n",
        "        duration_ms = note_duration * beat_duration_ms\n",
        "        beep = generate_beep(duration_ms)\n",
        "        sounds.extend(beep)\n",
        "        # Add a short silence between notes\n",
        "        silence = np.zeros(int(44100 * 0.05))  # 50ms of silence\n",
        "        sounds.extend(silence)\n",
        "    audio = np.hstack(sounds)\n",
        "    return Audio(audio, rate=44100, autoplay=True)"
      ]
    },
    {
      "cell_type": "code",
      "execution_count": 11,
      "metadata": {
        "id": "M7u1AcI8E3U1"
      },
      "outputs": [],
      "source": [
        "def on_play_button_clicked(b):\n",
        "    rhythm_audio = play_rhythm(tempo_slider.value, rhythm_text.value)\n",
        "    display(rhythm_audio)"
      ]
    },
    {
      "cell_type": "code",
      "execution_count": null,
      "metadata": {
        "colab": {
          "base_uri": "https://localhost:8080/",
          "height": 227,
          "referenced_widgets": [
            "46a8453d19774a43bce94ecd7bc3eb55",
            "53f0fe4d16ae4dcba6db45a07a85c1af",
            "a592aceb32ce48188975207d51f85bed",
            "11e15b457f174cb4b8b6b325305dfa4e",
            "4817de3c035448a5814a81e3c294189c",
            "5a0df4ddfb3142bcac2fb4297c16441b",
            "cd24898161424088b55bca136e133bdb",
            "47e8ed2656e644fea490aa4028eef872",
            "f67ce552df1e473fbfc0dbbdfc7653c8"
          ]
        },
        "id": "1_s1TbFsEwwC",
        "outputId": "079653e5-f03e-49d1-b1b5-d48e1ac2a66f"
      },
      "outputs": [],
      "source": [
        "# UI \n",
        "tempo_slider = widgets.IntSlider(value=120, min=40, max=240, description='Tempo (BPM):')\n",
        "rhythm_text = widgets.Text(value='q q h', description='Rhythm:')\n",
        "play_button = widgets.Button(description=\"Play Rhythm\")\n",
        "\n",
        "display(tempo_slider, rhythm_text, play_button)\n",
        "play_button.on_click(on_play_button_clicked)"
      ]
    },
    {
      "cell_type": "code",
      "execution_count": null,
      "metadata": {
        "id": "AaAi8yTCEzzN"
      },
      "outputs": [],
      "source": []
    }
  ],
  "metadata": {
    "colab": {
      "provenance": []
    },
    "kernelspec": {
      "display_name": "Python 3",
      "language": "python",
      "name": "python3"
    },
    "language_info": {
      "codemirror_mode": {
        "name": "ipython",
        "version": 3
      },
      "file_extension": ".py",
      "mimetype": "text/x-python",
      "name": "python",
      "nbconvert_exporter": "python",
      "pygments_lexer": "ipython3",
      "version": "3.11.1"
    },
    "vscode": {
      "interpreter": {
        "hash": "aee8b7b246df8f9039afb4144a1f6fd8d2ca17a180786b69acc140d282b71a49"
      }
    },
    "widgets": {
      "application/vnd.jupyter.widget-state+json": {
        "11e15b457f174cb4b8b6b325305dfa4e": {
          "model_module": "@jupyter-widgets/controls",
          "model_module_version": "1.5.0",
          "model_name": "TextModel",
          "state": {
            "_dom_classes": [],
            "_model_module": "@jupyter-widgets/controls",
            "_model_module_version": "1.5.0",
            "_model_name": "TextModel",
            "_view_count": null,
            "_view_module": "@jupyter-widgets/controls",
            "_view_module_version": "1.5.0",
            "_view_name": "TextView",
            "continuous_update": true,
            "description": "Rhythm:",
            "description_tooltip": null,
            "disabled": false,
            "layout": "IPY_MODEL_4817de3c035448a5814a81e3c294189c",
            "placeholder": "​",
            "style": "IPY_MODEL_5a0df4ddfb3142bcac2fb4297c16441b",
            "value": "b b w b b w b b b b b b w b b b b c c c c s b b b  b b b w"
          }
        },
        "46a8453d19774a43bce94ecd7bc3eb55": {
          "model_module": "@jupyter-widgets/controls",
          "model_module_version": "1.5.0",
          "model_name": "IntSliderModel",
          "state": {
            "_dom_classes": [],
            "_model_module": "@jupyter-widgets/controls",
            "_model_module_version": "1.5.0",
            "_model_name": "IntSliderModel",
            "_view_count": null,
            "_view_module": "@jupyter-widgets/controls",
            "_view_module_version": "1.5.0",
            "_view_name": "IntSliderView",
            "continuous_update": true,
            "description": "Tempo (BPM):",
            "description_tooltip": null,
            "disabled": false,
            "layout": "IPY_MODEL_53f0fe4d16ae4dcba6db45a07a85c1af",
            "max": 240,
            "min": 40,
            "orientation": "horizontal",
            "readout": true,
            "readout_format": "d",
            "step": 1,
            "style": "IPY_MODEL_a592aceb32ce48188975207d51f85bed",
            "value": 57
          }
        },
        "47e8ed2656e644fea490aa4028eef872": {
          "model_module": "@jupyter-widgets/base",
          "model_module_version": "1.2.0",
          "model_name": "LayoutModel",
          "state": {
            "_model_module": "@jupyter-widgets/base",
            "_model_module_version": "1.2.0",
            "_model_name": "LayoutModel",
            "_view_count": null,
            "_view_module": "@jupyter-widgets/base",
            "_view_module_version": "1.2.0",
            "_view_name": "LayoutView",
            "align_content": null,
            "align_items": null,
            "align_self": null,
            "border": null,
            "bottom": null,
            "display": null,
            "flex": null,
            "flex_flow": null,
            "grid_area": null,
            "grid_auto_columns": null,
            "grid_auto_flow": null,
            "grid_auto_rows": null,
            "grid_column": null,
            "grid_gap": null,
            "grid_row": null,
            "grid_template_areas": null,
            "grid_template_columns": null,
            "grid_template_rows": null,
            "height": null,
            "justify_content": null,
            "justify_items": null,
            "left": null,
            "margin": null,
            "max_height": null,
            "max_width": null,
            "min_height": null,
            "min_width": null,
            "object_fit": null,
            "object_position": null,
            "order": null,
            "overflow": null,
            "overflow_x": null,
            "overflow_y": null,
            "padding": null,
            "right": null,
            "top": null,
            "visibility": null,
            "width": null
          }
        },
        "4817de3c035448a5814a81e3c294189c": {
          "model_module": "@jupyter-widgets/base",
          "model_module_version": "1.2.0",
          "model_name": "LayoutModel",
          "state": {
            "_model_module": "@jupyter-widgets/base",
            "_model_module_version": "1.2.0",
            "_model_name": "LayoutModel",
            "_view_count": null,
            "_view_module": "@jupyter-widgets/base",
            "_view_module_version": "1.2.0",
            "_view_name": "LayoutView",
            "align_content": null,
            "align_items": null,
            "align_self": null,
            "border": null,
            "bottom": null,
            "display": null,
            "flex": null,
            "flex_flow": null,
            "grid_area": null,
            "grid_auto_columns": null,
            "grid_auto_flow": null,
            "grid_auto_rows": null,
            "grid_column": null,
            "grid_gap": null,
            "grid_row": null,
            "grid_template_areas": null,
            "grid_template_columns": null,
            "grid_template_rows": null,
            "height": null,
            "justify_content": null,
            "justify_items": null,
            "left": null,
            "margin": null,
            "max_height": null,
            "max_width": null,
            "min_height": null,
            "min_width": null,
            "object_fit": null,
            "object_position": null,
            "order": null,
            "overflow": null,
            "overflow_x": null,
            "overflow_y": null,
            "padding": null,
            "right": null,
            "top": null,
            "visibility": null,
            "width": null
          }
        },
        "53f0fe4d16ae4dcba6db45a07a85c1af": {
          "model_module": "@jupyter-widgets/base",
          "model_module_version": "1.2.0",
          "model_name": "LayoutModel",
          "state": {
            "_model_module": "@jupyter-widgets/base",
            "_model_module_version": "1.2.0",
            "_model_name": "LayoutModel",
            "_view_count": null,
            "_view_module": "@jupyter-widgets/base",
            "_view_module_version": "1.2.0",
            "_view_name": "LayoutView",
            "align_content": null,
            "align_items": null,
            "align_self": null,
            "border": null,
            "bottom": null,
            "display": null,
            "flex": null,
            "flex_flow": null,
            "grid_area": null,
            "grid_auto_columns": null,
            "grid_auto_flow": null,
            "grid_auto_rows": null,
            "grid_column": null,
            "grid_gap": null,
            "grid_row": null,
            "grid_template_areas": null,
            "grid_template_columns": null,
            "grid_template_rows": null,
            "height": null,
            "justify_content": null,
            "justify_items": null,
            "left": null,
            "margin": null,
            "max_height": null,
            "max_width": null,
            "min_height": null,
            "min_width": null,
            "object_fit": null,
            "object_position": null,
            "order": null,
            "overflow": null,
            "overflow_x": null,
            "overflow_y": null,
            "padding": null,
            "right": null,
            "top": null,
            "visibility": null,
            "width": null
          }
        },
        "5a0df4ddfb3142bcac2fb4297c16441b": {
          "model_module": "@jupyter-widgets/controls",
          "model_module_version": "1.5.0",
          "model_name": "DescriptionStyleModel",
          "state": {
            "_model_module": "@jupyter-widgets/controls",
            "_model_module_version": "1.5.0",
            "_model_name": "DescriptionStyleModel",
            "_view_count": null,
            "_view_module": "@jupyter-widgets/base",
            "_view_module_version": "1.2.0",
            "_view_name": "StyleView",
            "description_width": ""
          }
        },
        "a592aceb32ce48188975207d51f85bed": {
          "model_module": "@jupyter-widgets/controls",
          "model_module_version": "1.5.0",
          "model_name": "SliderStyleModel",
          "state": {
            "_model_module": "@jupyter-widgets/controls",
            "_model_module_version": "1.5.0",
            "_model_name": "SliderStyleModel",
            "_view_count": null,
            "_view_module": "@jupyter-widgets/base",
            "_view_module_version": "1.2.0",
            "_view_name": "StyleView",
            "description_width": "",
            "handle_color": null
          }
        },
        "cd24898161424088b55bca136e133bdb": {
          "model_module": "@jupyter-widgets/controls",
          "model_module_version": "1.5.0",
          "model_name": "ButtonModel",
          "state": {
            "_dom_classes": [],
            "_model_module": "@jupyter-widgets/controls",
            "_model_module_version": "1.5.0",
            "_model_name": "ButtonModel",
            "_view_count": null,
            "_view_module": "@jupyter-widgets/controls",
            "_view_module_version": "1.5.0",
            "_view_name": "ButtonView",
            "button_style": "",
            "description": "Play Rhythm",
            "disabled": false,
            "icon": "",
            "layout": "IPY_MODEL_47e8ed2656e644fea490aa4028eef872",
            "style": "IPY_MODEL_f67ce552df1e473fbfc0dbbdfc7653c8",
            "tooltip": ""
          }
        },
        "f67ce552df1e473fbfc0dbbdfc7653c8": {
          "model_module": "@jupyter-widgets/controls",
          "model_module_version": "1.5.0",
          "model_name": "ButtonStyleModel",
          "state": {
            "_model_module": "@jupyter-widgets/controls",
            "_model_module_version": "1.5.0",
            "_model_name": "ButtonStyleModel",
            "_view_count": null,
            "_view_module": "@jupyter-widgets/base",
            "_view_module_version": "1.2.0",
            "_view_name": "StyleView",
            "button_color": null,
            "font_weight": ""
          }
        }
      }
    }
  },
  "nbformat": 4,
  "nbformat_minor": 0
}
